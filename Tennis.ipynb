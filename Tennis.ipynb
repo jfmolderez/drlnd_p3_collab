{
 "cells": [
  {
   "cell_type": "markdown",
   "metadata": {},
   "source": [
    "# Collaboration and Competition\n",
    "\n",
    "---\n",
    "\n",
    "In this notebook, you will learn how to use the Unity ML-Agents environment for the third project of the [Deep Reinforcement Learning Nanodegree](https://www.udacity.com/course/deep-reinforcement-learning-nanodegree--nd893) program.\n",
    "\n",
    "### 1. Start the Environment\n",
    "\n",
    "We begin by importing the necessary packages.  If the code cell below returns an error, please revisit the project instructions to double-check that you have installed [Unity ML-Agents](https://github.com/Unity-Technologies/ml-agents/blob/master/docs/Installation.md) and [NumPy](http://www.numpy.org/)."
   ]
  },
  {
   "cell_type": "code",
   "execution_count": 1,
   "metadata": {},
   "outputs": [],
   "source": [
    "from unityagents import UnityEnvironment\n",
    "import numpy as np"
   ]
  },
  {
   "cell_type": "markdown",
   "metadata": {},
   "source": [
    "Next, we will start the environment!  **_Before running the code cell below_**, change the `file_name` parameter to match the location of the Unity environment that you downloaded.\n",
    "\n",
    "- **Mac**: `\"path/to/Tennis.app\"`\n",
    "- **Windows** (x86): `\"path/to/Tennis_Windows_x86/Tennis.exe\"`\n",
    "- **Windows** (x86_64): `\"path/to/Tennis_Windows_x86_64/Tennis.exe\"`\n",
    "- **Linux** (x86): `\"path/to/Tennis_Linux/Tennis.x86\"`\n",
    "- **Linux** (x86_64): `\"path/to/Tennis_Linux/Tennis.x86_64\"`\n",
    "- **Linux** (x86, headless): `\"path/to/Tennis_Linux_NoVis/Tennis.x86\"`\n",
    "- **Linux** (x86_64, headless): `\"path/to/Tennis_Linux_NoVis/Tennis.x86_64\"`\n",
    "\n",
    "For instance, if you are using a Mac, then you downloaded `Tennis.app`.  If this file is in the same folder as the notebook, then the line below should appear as follows:\n",
    "```\n",
    "env = UnityEnvironment(file_name=\"Tennis.app\")\n",
    "```"
   ]
  },
  {
   "cell_type": "code",
   "execution_count": 2,
   "metadata": {},
   "outputs": [
    {
     "name": "stderr",
     "output_type": "stream",
     "text": [
      "INFO:unityagents:\n",
      "'Academy' started successfully!\n",
      "Unity Academy name: Academy\n",
      "        Number of Brains: 1\n",
      "        Number of External Brains : 1\n",
      "        Lesson number : 0\n",
      "        Reset Parameters :\n",
      "\t\t\n",
      "Unity brain name: TennisBrain\n",
      "        Number of Visual Observations (per agent): 0\n",
      "        Vector Observation space type: continuous\n",
      "        Vector Observation space size (per agent): 8\n",
      "        Number of stacked Vector Observation: 3\n",
      "        Vector Action space type: continuous\n",
      "        Vector Action space size (per agent): 2\n",
      "        Vector Action descriptions: , \n"
     ]
    }
   ],
   "source": [
    "env = UnityEnvironment(file_name=\"Tennis.app\")"
   ]
  },
  {
   "cell_type": "markdown",
   "metadata": {},
   "source": [
    "Environments contain **_brains_** which are responsible for deciding the actions of their associated agents. Here we check for the first brain available, and set it as the default brain we will be controlling from Python."
   ]
  },
  {
   "cell_type": "code",
   "execution_count": 3,
   "metadata": {},
   "outputs": [],
   "source": [
    "# get the default brain\n",
    "brain_name = env.brain_names[0]\n",
    "brain = env.brains[brain_name]"
   ]
  },
  {
   "cell_type": "markdown",
   "metadata": {},
   "source": [
    "### 2. Examine the State and Action Spaces\n",
    "\n",
    "In this environment, two agents control rackets to bounce a ball over a net. If an agent hits the ball over the net, it receives a reward of +0.1.  If an agent lets a ball hit the ground or hits the ball out of bounds, it receives a reward of -0.01.  Thus, the goal of each agent is to keep the ball in play.\n",
    "\n",
    "The observation space consists of 8 variables corresponding to the position and velocity of the ball and racket. Two continuous actions are available, corresponding to movement toward (or away from) the net, and jumping. \n",
    "\n",
    "Run the code cell below to print some information about the environment."
   ]
  },
  {
   "cell_type": "code",
   "execution_count": 4,
   "metadata": {},
   "outputs": [
    {
     "name": "stdout",
     "output_type": "stream",
     "text": [
      "Number of agents: 2\n",
      "Size of each action: 2\n",
      "There are 2 agents. Each observes a state with length: 24\n",
      "The state for the first agent looks like: [ 0.          0.          0.          0.          0.          0.\n",
      "  0.          0.          0.          0.          0.          0.\n",
      "  0.          0.          0.          0.         -6.65278625 -1.5\n",
      " -0.          0.          6.83172083  6.         -0.          0.        ]\n",
      "<class 'numpy.ndarray'>\n",
      "<class 'numpy.ndarray'>\n"
     ]
    }
   ],
   "source": [
    "# reset the environment\n",
    "env_info = env.reset(train_mode=True)[brain_name]\n",
    "\n",
    "# number of agents \n",
    "num_agents = len(env_info.agents)\n",
    "print('Number of agents:', num_agents)\n",
    "\n",
    "# size of each action\n",
    "action_size = brain.vector_action_space_size\n",
    "print('Size of each action:', action_size)\n",
    "\n",
    "# examine the state space \n",
    "states = env_info.vector_observations\n",
    "state_size = states.shape[1]\n",
    "print('There are {} agents. Each observes a state with length: {}'.format(states.shape[0], state_size))\n",
    "print('The state for the first agent looks like:', states[0])\n",
    "print(type(states[0]))\n",
    "print(type(states))\n",
    "#print('The state for the second agent looks like:', states[1])"
   ]
  },
  {
   "cell_type": "markdown",
   "metadata": {},
   "source": [
    "### 3. Take Random Actions in the Environment\n",
    "\n",
    "In the next code cell, you will learn how to use the Python API to control the agents and receive feedback from the environment.\n",
    "\n",
    "Once this cell is executed, you will watch the agents' performance, if they select actions at random with each time step.  A window should pop up that allows you to observe the agents.\n",
    "\n",
    "Of course, as part of the project, you'll have to change the code so that the agents are able to use their experiences to gradually choose better actions when interacting with the environment!"
   ]
  },
  {
   "cell_type": "code",
   "execution_count": 5,
   "metadata": {},
   "outputs": [
    {
     "name": "stdout",
     "output_type": "stream",
     "text": [
      "Score (max over agents) from episode 1: 0.0\n",
      "Score (max over agents) from episode 2: 0.0\n",
      "Score (max over agents) from episode 3: 0.0\n",
      "Score (max over agents) from episode 4: 0.0\n",
      "Score (max over agents) from episode 5: 0.0\n"
     ]
    }
   ],
   "source": [
    "for i in range(1, 6):                                      # play game for 5 episodes\n",
    "    env_info = env.reset(train_mode=False)[brain_name]     # reset the environment    \n",
    "    states = env_info.vector_observations                  # get the current state (for each agent)\n",
    "    scores = np.zeros(num_agents)                          # initialize the score (for each agent)\n",
    "    while True:\n",
    "        actions = np.random.randn(num_agents, action_size) # select an action (for each agent)\n",
    "        actions = np.clip(actions, -1, 1)                  # all actions between -1 and 1\n",
    "        env_info = env.step(actions)[brain_name]           # send all actions to tne environment\n",
    "        next_states = env_info.vector_observations         # get next state (for each agent)\n",
    "        rewards = env_info.rewards                         # get reward (for each agent)\n",
    "        #print(\"\\nrewards = {}\\n\".format(rewards))\n",
    "        #print(type(rewards))\n",
    "        #break\n",
    "        dones = env_info.local_done                        # see if episode finished\n",
    "        scores += env_info.rewards                         # update the score (for each agent)\n",
    "        states = next_states                               # roll over states to next time step\n",
    "        if np.any(dones):                                  # exit loop if episode finished\n",
    "            break\n",
    "    print('Score (max over agents) from episode {}: {}'.format(i, np.max(scores)))"
   ]
  },
  {
   "cell_type": "markdown",
   "metadata": {},
   "source": [
    "### 4. It's Your Turn!\n",
    "\n",
    "Now it's your turn to train your own agent to solve the environment!  When training the environment, set `train_mode=True`, so that the line for resetting the environment looks like the following:\n",
    "```python\n",
    "env_info = env.reset(train_mode=True)[brain_name]\n",
    "```"
   ]
  },
  {
   "cell_type": "markdown",
   "metadata": {},
   "source": [
    "## DDPG Agent - Deep Deterministic Policy Agent"
   ]
  },
  {
   "cell_type": "markdown",
   "metadata": {},
   "source": [
    "#### Imports"
   ]
  },
  {
   "cell_type": "code",
   "execution_count": 6,
   "metadata": {},
   "outputs": [],
   "source": [
    "import torch\n",
    "import torch.nn as nn\n",
    "import torch.nn.functional as F\n",
    "import torch.optim as optim\n",
    "import random\n",
    "from collections import deque, namedtuple\n",
    "import copy\n",
    "import matplotlib.pyplot as plt\n",
    "%matplotlib inline"
   ]
  },
  {
   "cell_type": "markdown",
   "metadata": {},
   "source": [
    "#### Hyperparameters"
   ]
  },
  {
   "cell_type": "code",
   "execution_count": 7,
   "metadata": {},
   "outputs": [],
   "source": [
    "BUFFER_SIZE = int(1e6)\n",
    "BATCH_SIZE = 256\n",
    "UPDATE_EVERY = 3\n",
    "GAMMA = 0.99\n",
    "TAU = 1e-3\n",
    "LR_ACTOR = 1e-4  # Learning rate of actor (try 1e-2 ???)\n",
    "LR_CRITIC = 1e-4 # Learning rate of critic 1e-4 ????\n",
    "RANDOM_SEED = 10"
   ]
  },
  {
   "cell_type": "markdown",
   "metadata": {},
   "source": [
    "### Actor Model"
   ]
  },
  {
   "cell_type": "code",
   "execution_count": 8,
   "metadata": {},
   "outputs": [],
   "source": [
    "def hidden_init(layer):\n",
    "    \"\"\" Initialisation of hidden layers\"\"\"\n",
    "    fan_in = layer.weight.data.size()[0]\n",
    "    lim = 1. / np.sqrt(fan_in)\n",
    "    return (-lim, lim)\n",
    "\n",
    "class Actor(nn.Module):\n",
    "    \"\"\"\n",
    "    The Actor network is an approximation of the policy function that maps states to actions\n",
    "    \"\"\" \n",
    "    def __init__(self, state_size, action_size, seed=RANDOM_SEED, fc1_units=256, fc2_units=256):\n",
    "        super(Actor, self).__init__()\n",
    "        self.seed = torch.manual_seed(seed)\n",
    "        self.fc1 = nn.Linear(state_size, fc1_units)\n",
    "        self.fc2 = nn.Linear(fc1_units, fc2_units)\n",
    "        self.fc3 = nn.Linear(fc2_units, action_size)\n",
    "        self.bn1 = nn.BatchNorm1d(fc1_units)\n",
    "        self.reset_parameters()\n",
    "        \n",
    "    def reset_parameters(self):\n",
    "        self.fc1.weight.data.uniform_(*hidden_init(self.fc1))\n",
    "        self.fc2.weight.data.uniform_(*hidden_init(self.fc2))\n",
    "        self.fc3.weight.data.uniform_(-3e-3, 3e-3)   \n",
    "        \n",
    "    def forward(self, state):\n",
    "        if state.dim() == 1 :\n",
    "            state = torch.unsqueeze(state, 0)\n",
    "        x = F.leaky_relu(self.fc1(state))\n",
    "        x = self.bn1(x)\n",
    "        x = F.leaky_relu(self.fc2(x))\n",
    "        x = F.tanh(self.fc3(x))\n",
    "\n",
    "        return x"
   ]
  },
  {
   "cell_type": "markdown",
   "metadata": {},
   "source": [
    "### Critic Model"
   ]
  },
  {
   "cell_type": "code",
   "execution_count": 9,
   "metadata": {},
   "outputs": [],
   "source": [
    "class Critic(nn.Module):\n",
    "    \"\"\"\n",
    "    The Critic network is an approximation of the action-value function \n",
    "    (Q function) that maps state-action pairs to value\n",
    "    Since this is a collaborative context, the critic receives as inputs the states and actions\n",
    "    for both agents\n",
    "    \"\"\" \n",
    "    def __init__(self, input_size, seed=RANDOM_SEED, fc1_units=256, fc2_units=256):\n",
    "        super(Critic, self).__init__()\n",
    "        self.seed = torch.manual_seed(seed)\n",
    "        self.fc1 = nn.Linear(input_size, fc1_units)\n",
    "        self.fc2 = nn.Linear(fc1_units, fc2_units)\n",
    "        self.fc3 = nn.Linear(fc2_units, 1) \n",
    "        self.bn1 = nn.BatchNorm1d(fc1_units)\n",
    "        self.reset_parameters()\n",
    "        \n",
    "    def reset_parameters(self):\n",
    "        self.fc1.weight.data.uniform_(*hidden_init(self.fc1))\n",
    "        self.fc2.weight.data.uniform_(*hidden_init(self.fc2))\n",
    "        self.fc3.weight.data.uniform_(-3e-3, 3e-3)\n",
    "         \n",
    "    def forward(self, states, actions):\n",
    "        xs = torch.cat((states, actions), dim=1)\n",
    "        x = F.leaky_relu(self.fc1(xs))\n",
    "        x = self.bn1(x)\n",
    "        x = F.leaky_relu(self.fc2(x))\n",
    "        x = self.fc3(x)\n",
    "        return x"
   ]
  },
  {
   "cell_type": "markdown",
   "metadata": {},
   "source": [
    "### DDPG Agent"
   ]
  },
  {
   "cell_type": "markdown",
   "metadata": {},
   "source": [
    "#### Device"
   ]
  },
  {
   "cell_type": "code",
   "execution_count": 10,
   "metadata": {},
   "outputs": [],
   "source": [
    "device = torch.device(\"cuda\" if torch.cuda.is_available() else \"cpu\")"
   ]
  },
  {
   "cell_type": "markdown",
   "metadata": {},
   "source": [
    "#### Replay Buffer\n",
    "The agent learns from past experiences that are stored in a replay buffer. An experience is a named tuple $&lt;s, a, r, s^{'}, done &gt;$ . At each step (interaction of the agent with the environment) , the agent stores the response of the environment as a tuple in the replay buffer. The agent also samples at each step (once the replay buffer contains enough experiences) the replay bufferto get a batch of experiences that are used to learn the weights ($\\theta, w$) of the actor and critic networks."
   ]
  },
  {
   "cell_type": "code",
   "execution_count": 11,
   "metadata": {},
   "outputs": [],
   "source": [
    "class ReplayBuffer:\n",
    "    def __init__(self, buffer_size, batch_size, seed=RANDOM_SEED):\n",
    "        self.memory = deque(maxlen=buffer_size)\n",
    "        self.batch_size = batch_size\n",
    "        self.experience = namedtuple('Experience', field_names = ['states', 'actions', 'rewards', 'next_states', 'dones'])\n",
    "        self.seed = random.seed(seed)\n",
    "        \n",
    "    def add(self, states, actions, rewards, next_states, dones):\n",
    "        \"\"\"push into the buffer\"\"\"\n",
    "        e = self.experience(states, actions, rewards, next_states, dones)\n",
    "        self.memory.append(e)\n",
    "\n",
    "    def sample(self, batchsize, num_agents=2):\n",
    "        \"\"\"sample from the buffer\"\"\"\n",
    "        experiences = random.sample(self.memory, self.batch_size)\n",
    "        states = []\n",
    "        actions = []\n",
    "        rewards = []\n",
    "        next_states = []\n",
    "        dones = []\n",
    "        for i in range(num_agents) :\n",
    "            states.append(torch.from_numpy(np.vstack([e.states[i] for e in experiences if e is not None])).float().to(device))\n",
    "            actions.append(torch.from_numpy(np.vstack([e.actions[i] for e in experiences if e is not None])).float().to(device))\n",
    "            rewards.append(torch.from_numpy(np.vstack([e.rewards[i] for e in experiences if e is not None])).float().to(device))\n",
    "            next_states.append(torch.from_numpy(np.vstack([e.next_states[i] for e in experiences if e is not None])).float().to(device))  \n",
    "            dones.append(torch.from_numpy(np.vstack([e.dones[i] for e in experiences if e is not None]).astype(np.uint8)).float().to(device))  \n",
    "            \n",
    "        return (states , actions, rewards, next_states, dones)\n",
    "        \n",
    "\n",
    "    def __len__(self):\n",
    "        return len(self.memory)"
   ]
  },
  {
   "cell_type": "markdown",
   "metadata": {},
   "source": [
    "#### Agent"
   ]
  },
  {
   "cell_type": "code",
   "execution_count": 12,
   "metadata": {},
   "outputs": [],
   "source": [
    "# https://github.com/ikostrikov/pytorch-ddpg-naf/blob/master/ddpg.py#L15\n",
    "def hard_update(target, source):\n",
    "    \"\"\"\n",
    "    Copy network parameters from source to target\n",
    "    Inputs:\n",
    "        target (torch.nn.Module): Net to copy parameters to\n",
    "        source (torch.nn.Module): Net whose parameters to copy\n",
    "    \"\"\"\n",
    "    for target_param, param in zip(target.parameters(), source.parameters()):\n",
    "        target_param.data.copy_(param.data)\n",
    "        \n",
    "num_agents = 2\n",
    "states_size = num_agents * state_size\n",
    "actions_size = num_agents * action_size\n",
    "\n",
    "critic = Critic(states_size + actions_size).to(device)\n",
    "target_critic = Critic(states_size + actions_size).to(device)\n",
    "hard_update(target_critic, critic)\n",
    "\n",
    "class Agent:\n",
    "    \"\"\"\n",
    "    Deep Deterministic Policy Gradient agent equipped with actor & critic networks (local and target)\n",
    "     --> The actor network is used to predict the action based on the input observations\n",
    "     --> The critic nework is the qvalue function.\n",
    "    Only the parameters of the local networks are optimized.\n",
    "    The parameters of the target networks follow those of the local networks (soft updates)\n",
    "    \n",
    "    critic input = obs_full + actions = (24 * 2) + 2 + 2 = 52\n",
    "    \"\"\"\n",
    "     \n",
    "    def __init__(self):\n",
    "        super(Agent, self).__init__()\n",
    "        self.actor = Actor(state_size, action_size).to(device)\n",
    "        self.critic = critic\n",
    "        self.target_actor = Actor(state_size, action_size).to(device)\n",
    "        self.target_critic = target_critic \n",
    "        \n",
    "        # self.noise = OUNoise(action_size, scale=1.0)\n",
    "        \n",
    "        # initialize target\n",
    "        hard_update(self.target_actor, self.actor)\n",
    " \n",
    "        self.actor_optimizer = optim.Adam(self.actor.parameters(), lr=LR_ACTOR)\n",
    "        self.critic_optimizer = optim.Adam(self.critic.parameters(), lr=LR_CRITIC)\n",
    "        \n",
    "    def act(self, state):\n",
    "        state = torch.from_numpy(state).float().to(device)\n",
    "        self.actor.eval()\n",
    "        with torch.no_grad() :\n",
    "            action = self.actor(state).cpu().data.numpy() # + noise * self.noise.noise()\n",
    "        self.actor.train()\n",
    "        return action\n",
    "        #return np.clip(action, -1, 1)"
   ]
  },
  {
   "cell_type": "markdown",
   "metadata": {},
   "source": [
    "### Multi Agent DDPG"
   ]
  },
  {
   "cell_type": "code",
   "execution_count": 13,
   "metadata": {},
   "outputs": [],
   "source": [
    "# https://github.com/ikostrikov/pytorch-ddpg-naf/blob/master/ddpg.py#L11\n",
    "def soft_update(target, source, tau=TAU):\n",
    "    \"\"\"\n",
    "    Perform DDPG soft update (move target params toward source based on weight\n",
    "    factor tau)\n",
    "    Inputs:\n",
    "        target (torch.nn.Module): Net to copy parameters to\n",
    "        source (torch.nn.Module): Net whose parameters to copy\n",
    "        tau (float, 0 < x < 1): Weight factor for update\n",
    "    \"\"\"\n",
    "    for target_param, param in zip(target.parameters(), source.parameters()):\n",
    "        target_param.data.copy_(target_param.data * (1.0 - tau) + param.data * tau)\n",
    "\n",
    "\n",
    "class MADDPG:\n",
    "    def __init__(self, num_agents=2):\n",
    "        super(MADDPG, self).__init__() \n",
    "        self.num_agents = num_agents\n",
    "        self.maddpg_agent = [Agent() for i in range(num_agents)] # 2 agents        \n",
    "        self.memory = ReplayBuffer(BUFFER_SIZE, BATCH_SIZE)\n",
    "        self.t_step = 0\n",
    "    \n",
    "    def act(self, obs_all_agents):\n",
    "        \"\"\"get actions from all agents in the MADDPG object\"\"\"\n",
    "        actions = [agent.act(obs) for agent, obs in zip(self.maddpg_agent, obs_all_agents)]\n",
    "        return actions\n",
    "\n",
    "    \n",
    "    def step(self, states, actions, rewards, next_states, dones):\n",
    "        self.memory.add(states, actions, rewards, next_states, dones)\n",
    "        self.t_step = (self.t_step + 1) % UPDATE_EVERY\n",
    "        if self.t_step == 0 :\n",
    "            if len(self.memory) > BATCH_SIZE :\n",
    "                experiences = self.memory.sample(BATCH_SIZE)\n",
    "                # First agent\n",
    "                self.learn(experiences, 0, GAMMA)\n",
    "                # Second Agent\n",
    "                self.learn(experiences, 1, GAMMA) \n",
    "\n",
    "                \n",
    "    def learn(self, experiences, i_agent, gamma):\n",
    "        (states, actions, rewards, next_states, dones) = experiences\n",
    "        agent = self.maddpg_agent[i_agent]\n",
    "        \n",
    "        ############ update critic network ###############\n",
    "        agent.critic_optimizer.zero_grad()\n",
    "\n",
    "        next_actions = []\n",
    "        for i, a in enumerate(self.maddpg_agent):\n",
    "            next_actions.append(a.target_actor(next_states[i]))\n",
    "        target_actions = torch.cat(next_actions, dim=1)\n",
    "        target_states = torch.cat(next_states, dim=1)\n",
    "        #target_critic_input = torch.cat([torch.cat(next_states, dim=1), target_actions], dim=1)\n",
    "\n",
    "        #with torch.no_grad() :\n",
    "        q_next = agent.target_critic(target_states, target_actions)\n",
    "        y = rewards[i_agent].view(-1,1) + GAMMA * (1 - dones[i_agent].view(-1,1))\n",
    "        \n",
    "        current_states = torch.cat(states, dim=1)\n",
    "        current_actions = torch.cat(actions, dim=1)\n",
    "        #critic_input = torch.cat([torch.cat(states, dim=1), current_actions], dim=1)\n",
    "        q = agent.critic(current_states, current_actions)\n",
    "        \n",
    "        #huber_loss = torch.nn.SmoothL1Loss()\n",
    "        #critic_loss = huber_loss(q, y.detach())\n",
    "        critic_loss = F.mse_loss(q, y.detach())\n",
    "        critic_loss.backward()\n",
    "        agent.critic_optimizer.step()\n",
    "        \n",
    "        ############ update actor network ###############\n",
    "        agent.actor_optimizer.zero_grad()\n",
    "            \n",
    "        actions_pred = [self.maddpg_agent[i].actor(state) if i == i_agent \\\n",
    "                   else self.maddpg_agent[i].actor(state).detach() \\\n",
    "                   for i, state in enumerate(states) ]\n",
    "        actions_pred = torch.cat(actions_pred, 1)\n",
    "        #q_input = torch.cat([torch.cat(states, dim=1), torch.cat(actions_pred, dim=1)], dim=1)\n",
    "        actor_loss = -agent.critic(current_states, actions_pred).mean() # no mean() here ????\n",
    "        actor_loss.backward()\n",
    "        # nn.utils.clip_grad_norm_(agent.critic.parameters(), 1.)\n",
    "        agent.actor_optimizer.step()\n",
    "        \n",
    "        ############## . Update target networks ##############\n",
    "        self.update_targets()\n",
    "            \n",
    "    def update_targets(self):\n",
    "        \"\"\"soft update targets\"\"\"\n",
    "        for ddpg_agent in self.maddpg_agent:\n",
    "            soft_update(ddpg_agent.target_actor, ddpg_agent.actor)\n",
    "            soft_update(ddpg_agent.target_critic, ddpg_agent.critic)\n",
    "        \n",
    "        \n",
    "        \n",
    "        \n",
    "        \n",
    "        "
   ]
  },
  {
   "cell_type": "markdown",
   "metadata": {},
   "source": [
    "#### Noise"
   ]
  },
  {
   "cell_type": "code",
   "execution_count": 14,
   "metadata": {},
   "outputs": [],
   "source": [
    "# from https://github.com/songrotek/DDPG/blob/master/ou_noise.py\n",
    "class OUNoise:\n",
    "\n",
    "    def __init__(self, size, seed, mu=0., theta=0.15, sigma=0.2): \n",
    "        random.seed(seed)\n",
    "        np.random.seed(seed)\n",
    "        self.size = size\n",
    "        self.mu = mu * np.ones(size)\n",
    "        self.theta = theta\n",
    "        self.sigma = sigma\n",
    "        self.reset()\n",
    "\n",
    "    def reset(self):\n",
    "        self.state = copy.copy(self.mu)\n",
    "\n",
    "    def noise(self):\n",
    "        x = self.state\n",
    "        dx = self.theta * (self.mu - x) + self.sigma * np.random.randn(self.size)\n",
    "        self.state = x + dx\n",
    "        return self.state \n"
   ]
  },
  {
   "cell_type": "markdown",
   "metadata": {},
   "source": [
    "### Main Training Loop"
   ]
  },
  {
   "cell_type": "code",
   "execution_count": 15,
   "metadata": {},
   "outputs": [
    {
     "name": "stdout",
     "output_type": "stream",
     "text": [
      "Episode 50 \t Average Score : 0.00040\n",
      "Episode 100 \t Average Score : 0.00046\n",
      "Episode 150 \t Average Score : 0.00048\n",
      "Episode 200 \t Average Score : 0.00070\n",
      "Episode 250 \t Average Score : 0.00073\n",
      "Episode 300 \t Average Score : 0.00057\n",
      "Episode 350 \t Average Score : 0.00104\n",
      "Episode 400 \t Average Score : 0.00125\n",
      "Episode 450 \t Average Score : 0.00091\n",
      "Episode 500 \t Average Score : 0.00071\n",
      "Episode 550 \t Average Score : 0.00050\n",
      "Episode 600 \t Average Score : 0.00032\n",
      "Episode 650 \t Average Score : 0.00034\n",
      "Episode 700 \t Average Score : 0.00064\n",
      "Episode 750 \t Average Score : 0.00086\n",
      "Episode 800 \t Average Score : 0.00060\n",
      "Episode 850 \t Average Score : 0.00018\n",
      "Episode 900 \t Average Score : 0.00002\n",
      "Episode 950 \t Average Score : 0.00023\n",
      "Episode 1000 \t Average Score : 0.00030\n",
      "\n",
      " Average length of episodes = 17.7\n"
     ]
    },
    {
     "data": {
      "image/png": "[encoded data removed]",
      "text/plain": [
       "<Figure size 432x288 with 1 Axes>"
      ]
     },
     "metadata": {
      "needs_background": "light"
     },
     "output_type": "display_data"
    }
   ],
   "source": [
    "num_episodes = 1000\n",
    "num_agents = 2\n",
    "\n",
    "# amplitude of OU Noise\n",
    "# this slowly decrease to zero\n",
    "\n",
    "noise = OUNoise(action_size, RANDOM_SEED)\n",
    "noise_reduction = 1.0 #0.99999\n",
    "t_stop_noise = 12000\n",
    "\n",
    "# initialize policy and critic\n",
    "maddpg = MADDPG(num_agents)\n",
    "\n",
    "# scores \n",
    "scores = []\n",
    "scores_deque = deque(maxlen=100)\n",
    "\n",
    "# step index (across all episodes !!!)\n",
    "i_step = 0 \n",
    "\n",
    "print_every = 50\n",
    "\n",
    "for i_episode in range(1, num_episodes + 1) :\n",
    "    \n",
    "    agent0_rewards = []\n",
    "    agent1_rewards = []\n",
    "    env_info = env.reset(train_mode=True)[brain_name]     # reset the environment    \n",
    "    states = env_info.vector_observations                 # get the current state (for each agent)\n",
    "    \n",
    "    while True : \n",
    "        i_step += 1\n",
    "        noise_reduction *= noise_reduction\n",
    "        actions = maddpg.act(states)\n",
    "        if (i_step < t_stop_noise) :\n",
    "            noises = [noise.noise() * noise_reduction for i in range(num_agents)] \n",
    "            actions = [np.clip(np.add(a,n), -1, 1)  for (a,n) in zip(actions, noises)]\n",
    "\n",
    "        #if i_step % 200 == 0 :\n",
    "        #    print(\"\\nActions without noise= {}\".format(actions))\n",
    "        #    print(\"\\nNoisy actions = {}\\n\".format(actions1))\n",
    "\n",
    "        env_info = env.step(actions)[brain_name]\n",
    "        next_states = env_info.vector_observations         # get next state (for each agent)\n",
    "        rewards = env_info.rewards                         # get reward (for each agent)\n",
    "        dones = env_info.local_done                        # see if episode finished\n",
    "\n",
    "        \n",
    "        maddpg.step(states, actions, rewards, next_states, dones)\n",
    "        states = next_states\n",
    "        agent0_rewards.append(rewards[0])\n",
    "        agent1_rewards.append(rewards[1])\n",
    "        \n",
    "        if np.any(dones):\n",
    "            break\n",
    "    \n",
    "    score = max(np.mean(agent0_rewards), np.mean(agent1_rewards))\n",
    "    scores.append(score)\n",
    "    scores_deque.append(score)\n",
    "    print('\\rEpisode {} \\t Average Score : {:.5f}'.format(i_episode, np.mean(scores_deque)), end=\"\")\n",
    "    if  i_episode % print_every == 0 :\n",
    "        print('\\rEpisode {} \\t Average Score : {:.5f}'.format(i_episode, np.mean(scores_deque)))\n",
    "\n",
    "print(\"\\n Average length of episodes = {:.1f}\".format(i_step * 1.0 / num_episodes))\n",
    "\n",
    "fig = plt.figure()\n",
    "ax = fig.add_subplot(111)\n",
    "plt.plot(np.arange(1, len(scores) + 1), scores)\n",
    "plt.ylabel('Score')\n",
    "plt.xlabel('Episode #')\n",
    "plt.savefig('scores.jpg')\n",
    "plt.show()\n",
    "\n",
    "\n"
   ]
  },
  {
   "cell_type": "markdown",
   "metadata": {},
   "source": [
    "When finished, you can close the environment."
   ]
  },
  {
   "cell_type": "code",
   "execution_count": null,
   "metadata": {},
   "outputs": [],
   "source": [
    "env.close()"
   ]
  },
  {
   "cell_type": "markdown",
   "metadata": {},
   "source": [
    "## Scratch"
   ]
  },
  {
   "cell_type": "code",
   "execution_count": null,
   "metadata": {},
   "outputs": [],
   "source": [
    "import numpy as np"
   ]
  },
  {
   "cell_type": "code",
   "execution_count": null,
   "metadata": {},
   "outputs": [],
   "source": [
    "print(actions)\n",
    "noise = OUNoise(action_size, scale=0.5)\n",
    "#noises = [ noise.noise() for _ in range(num_agents)]\n",
    "\n",
    "noises = [noise.noise() * np.power(noise_reduction, 1) for i in range(num_agents)] \n",
    "print(noises)\n",
    "[np.clip(np.add(a,n), -1, 1) for (a,n) in zip(actions, noises)]\n",
    "\n",
    "\n",
    "#oise = ounoise.noise()\n",
    "#print(noise)\n",
    "#print(actions + noise)\n",
    "#np.clip(actions + noise, -1, 1)"
   ]
  },
  {
   "cell_type": "code",
   "execution_count": null,
   "metadata": {},
   "outputs": [],
   "source": [
    "np.power(0.9997,13000)"
   ]
  },
  {
   "cell_type": "code",
   "execution_count": null,
   "metadata": {},
   "outputs": [],
   "source": [
    "class Network(nn.Module):\n",
    "    \"\"\" \n",
    "    Baseline network for actor and critic in DDPG agent:\n",
    "    4 fully connected layers\n",
    "    \"\"\"\n",
    "    def __init__(self, input_dim, hidden_in_dim, hidden_mid_dim, hidden_out_dim, output_dim, actor=True):\n",
    "        super(Network, self).__init__()\n",
    "        self.fc1 = nn.Linear(input_dim, hidden_in_dim)\n",
    "        self.fc2 = nn.Linear(hidden_in_dim, hidden_mid_dim)\n",
    "        self.fc3 = nn.Linear(hidden_mid_dim, hidden_out_dim)\n",
    "        self.fc4 = nn.Linear(hidden_out_dim, output_dim)\n",
    "        self.nonlin = F.relu # leaky_relu\n",
    "        self.actor = actor\n",
    "        \n",
    "    def reset_parameters(self):\n",
    "        self.fc1.weight.data.uniform_(*hidden_init(self.fc1))\n",
    "        self.fc2.weight.data.uniform_(*hidden_init(self.fc2))\n",
    "        self.fc3.weight.data.uniform_(*hidden_init(self.fc3))\n",
    "        self.fc4.weight.data.uniform_(-1e-3, 1e-3)\n",
    "        \n",
    "    def forward(self, x):\n",
    "        if self.actor :\n",
    "            # return a vector of the force ??????\n",
    "            h1 = self.nonlin(self.fc1(x))\n",
    "            h2 = self.nonlin(self.fc2(h1))\n",
    "            h3 = self.nonlin(self.fc3(h2))\n",
    "            return F.tanh(self.fc4(h3))\n",
    "            \n",
    "        else:\n",
    "            # critic network simply outputs a number\n",
    "            h1 = self.nonlin(self.fc1(x))\n",
    "            h2 = self.nonlin(self.fc2(h1))\n",
    "            h3 = self.nonlin(self.fc3(h1))\n",
    "            return self.fc4(h3)\n",
    "        "
   ]
  }
 ],
 "metadata": {
  "kernelspec": {
   "display_name": "drlnd",
   "language": "python",
   "name": "drlnd"
  },
  "language_info": {
   "codemirror_mode": {
    "name": "ipython",
    "version": 3
   },
   "file_extension": ".py",
   "mimetype": "text/x-python",
   "name": "python",
   "nbconvert_exporter": "python",
   "pygments_lexer": "ipython3",
   "version": "3.6.9"
  }
 },
 "nbformat": 4,
 "nbformat_minor": 2
}
