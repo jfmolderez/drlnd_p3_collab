{
 "cells": [
  {
   "cell_type": "markdown",
   "metadata": {},
   "source": [
    "# Collaboration and Competition\n",
    "\n",
    "---\n",
    "\n",
    "In this notebook, you will learn how to use the Unity ML-Agents environment for the third project of the [Deep Reinforcement Learning Nanodegree](https://www.udacity.com/course/deep-reinforcement-learning-nanodegree--nd893) program.\n",
    "\n",
    "### 1. Start the Environment\n",
    "\n",
    "We begin by importing the necessary packages.  If the code cell below returns an error, please revisit the project instructions to double-check that you have installed [Unity ML-Agents](https://github.com/Unity-Technologies/ml-agents/blob/master/docs/Installation.md) and [NumPy](http://www.numpy.org/)."
   ]
  },
  {
   "cell_type": "code",
   "execution_count": 1,
   "metadata": {},
   "outputs": [],
   "source": [
    "from unityagents import UnityEnvironment\n",
    "import numpy as np"
   ]
  },
  {
   "cell_type": "markdown",
   "metadata": {},
   "source": [
    "Next, we will start the environment!  **_Before running the code cell below_**, change the `file_name` parameter to match the location of the Unity environment that you downloaded.\n",
    "\n",
    "- **Mac**: `\"path/to/Tennis.app\"`\n",
    "- **Windows** (x86): `\"path/to/Tennis_Windows_x86/Tennis.exe\"`\n",
    "- **Windows** (x86_64): `\"path/to/Tennis_Windows_x86_64/Tennis.exe\"`\n",
    "- **Linux** (x86): `\"path/to/Tennis_Linux/Tennis.x86\"`\n",
    "- **Linux** (x86_64): `\"path/to/Tennis_Linux/Tennis.x86_64\"`\n",
    "- **Linux** (x86, headless): `\"path/to/Tennis_Linux_NoVis/Tennis.x86\"`\n",
    "- **Linux** (x86_64, headless): `\"path/to/Tennis_Linux_NoVis/Tennis.x86_64\"`\n",
    "\n",
    "For instance, if you are using a Mac, then you downloaded `Tennis.app`.  If this file is in the same folder as the notebook, then the line below should appear as follows:\n",
    "```\n",
    "env = UnityEnvironment(file_name=\"Tennis.app\")\n",
    "```"
   ]
  },
  {
   "cell_type": "code",
   "execution_count": 2,
   "metadata": {},
   "outputs": [
    {
     "name": "stderr",
     "output_type": "stream",
     "text": [
      "INFO:unityagents:\n",
      "'Academy' started successfully!\n",
      "Unity Academy name: Academy\n",
      "        Number of Brains: 1\n",
      "        Number of External Brains : 1\n",
      "        Lesson number : 0\n",
      "        Reset Parameters :\n",
      "\t\t\n",
      "Unity brain name: TennisBrain\n",
      "        Number of Visual Observations (per agent): 0\n",
      "        Vector Observation space type: continuous\n",
      "        Vector Observation space size (per agent): 8\n",
      "        Number of stacked Vector Observation: 3\n",
      "        Vector Action space type: continuous\n",
      "        Vector Action space size (per agent): 2\n",
      "        Vector Action descriptions: , \n"
     ]
    }
   ],
   "source": [
    "env = UnityEnvironment(file_name=\"Tennis.app\")"
   ]
  },
  {
   "cell_type": "markdown",
   "metadata": {},
   "source": [
    "Environments contain **_brains_** which are responsible for deciding the actions of their associated agents. Here we check for the first brain available, and set it as the default brain we will be controlling from Python."
   ]
  },
  {
   "cell_type": "code",
   "execution_count": 3,
   "metadata": {},
   "outputs": [],
   "source": [
    "# get the default brain\n",
    "brain_name = env.brain_names[0]\n",
    "brain = env.brains[brain_name]"
   ]
  },
  {
   "cell_type": "markdown",
   "metadata": {},
   "source": [
    "### 2. Examine the State and Action Spaces\n",
    "\n",
    "In this environment, two agents control rackets to bounce a ball over a net. If an agent hits the ball over the net, it receives a reward of +0.1.  If an agent lets a ball hit the ground or hits the ball out of bounds, it receives a reward of -0.01.  Thus, the goal of each agent is to keep the ball in play.\n",
    "\n",
    "The observation space consists of 8 variables corresponding to the position and velocity of the ball and racket. Two continuous actions are available, corresponding to movement toward (or away from) the net, and jumping. \n",
    "\n",
    "Run the code cell below to print some information about the environment."
   ]
  },
  {
   "cell_type": "code",
   "execution_count": 4,
   "metadata": {},
   "outputs": [
    {
     "name": "stdout",
     "output_type": "stream",
     "text": [
      "Number of agents: 2\n",
      "Size of each action: 2\n",
      "There are 2 agents. Each observes a state with length: 24\n",
      "The state for the first agent looks like: [ 0.          0.          0.          0.          0.          0.\n",
      "  0.          0.          0.          0.          0.          0.\n",
      "  0.          0.          0.          0.         -6.65278625 -1.5\n",
      " -0.          0.          6.83172083  6.         -0.          0.        ]\n",
      "<class 'numpy.ndarray'>\n",
      "<class 'numpy.ndarray'>\n"
     ]
    }
   ],
   "source": [
    "# reset the environment\n",
    "env_info = env.reset(train_mode=True)[brain_name]\n",
    "\n",
    "# number of agents \n",
    "num_agents = len(env_info.agents)\n",
    "print('Number of agents:', num_agents)\n",
    "\n",
    "# size of each action\n",
    "action_size = brain.vector_action_space_size\n",
    "print('Size of each action:', action_size)\n",
    "\n",
    "# examine the state space \n",
    "states = env_info.vector_observations\n",
    "state_size = states.shape[1]\n",
    "print('There are {} agents. Each observes a state with length: {}'.format(states.shape[0], state_size))\n",
    "print('The state for the first agent looks like:', states[0])\n",
    "print(type(states[0]))\n",
    "print(type(states))\n",
    "#print('The state for the second agent looks like:', states[1])"
   ]
  },
  {
   "cell_type": "markdown",
   "metadata": {},
   "source": [
    "### 3. Take Random Actions in the Environment\n",
    "\n",
    "In the next code cell, you will learn how to use the Python API to control the agents and receive feedback from the environment.\n",
    "\n",
    "Once this cell is executed, you will watch the agents' performance, if they select actions at random with each time step.  A window should pop up that allows you to observe the agents.\n",
    "\n",
    "Of course, as part of the project, you'll have to change the code so that the agents are able to use their experiences to gradually choose better actions when interacting with the environment!"
   ]
  },
  {
   "cell_type": "code",
   "execution_count": 5,
   "metadata": {},
   "outputs": [
    {
     "name": "stdout",
     "output_type": "stream",
     "text": [
      "Score (max over agents) from episode 1: 0.0\n",
      "Score (max over agents) from episode 2: 0.10000000149011612\n",
      "Score (max over agents) from episode 3: 0.0\n",
      "Score (max over agents) from episode 4: 0.0\n",
      "Score (max over agents) from episode 5: 0.0\n"
     ]
    }
   ],
   "source": [
    "for i in range(1, 6):                                      # play game for 5 episodes\n",
    "    env_info = env.reset(train_mode=False)[brain_name]     # reset the environment    \n",
    "    states = env_info.vector_observations                  # get the current state (for each agent)\n",
    "    scores = np.zeros(num_agents)                          # initialize the score (for each agent)\n",
    "    while True:\n",
    "        actions = np.random.randn(num_agents, action_size) # select an action (for each agent)\n",
    "        actions = np.clip(actions, -1, 1)                  # all actions between -1 and 1\n",
    "        env_info = env.step(actions)[brain_name]           # send all actions to tne environment\n",
    "        next_states = env_info.vector_observations         # get next state (for each agent)\n",
    "        rewards = env_info.rewards                         # get reward (for each agent)\n",
    "        #print(\"\\nrewards = {}\\n\".format(rewards))\n",
    "        #print(type(rewards))\n",
    "        #break\n",
    "        dones = env_info.local_done                        # see if episode finished\n",
    "        scores += env_info.rewards                         # update the score (for each agent)\n",
    "        states = next_states                               # roll over states to next time step\n",
    "        if np.any(dones):                                  # exit loop if episode finished\n",
    "            break\n",
    "    print('Score (max over agents) from episode {}: {}'.format(i, np.max(scores)))"
   ]
  },
  {
   "cell_type": "markdown",
   "metadata": {},
   "source": [
    "### 4. It's Your Turn!\n",
    "\n",
    "Now it's your turn to train your own agent to solve the environment!  When training the environment, set `train_mode=True`, so that the line for resetting the environment looks like the following:\n",
    "```python\n",
    "env_info = env.reset(train_mode=True)[brain_name]\n",
    "```"
   ]
  },
  {
   "cell_type": "markdown",
   "metadata": {},
   "source": [
    "### Multi Agent - Deep Deterministic Policy Gradient"
   ]
  },
  {
   "cell_type": "code",
   "execution_count": 6,
   "metadata": {},
   "outputs": [],
   "source": [
    "import torch\n",
    "from Learner import Learner\n",
    "from collections import deque, namedtuple\n",
    "\n",
    "# main training loop\n",
    "def train(agent, n_episodes=10000, print_every=200):\n",
    "\n",
    "    scores_deque = deque(maxlen=100)\n",
    "    avg_scores = []\n",
    "    \n",
    "    # noise management\n",
    "    noise_factor = 1.0\n",
    "    noise_reduction = 0.9999\n",
    "    t_stop_noise = 12000\n",
    "    \n",
    "    # index of step across episodes\n",
    "    i_step = 0\n",
    "\n",
    "    # results\n",
    "    i_episode_max = 0\n",
    "    max_avg_score = 0.\n",
    "    \n",
    "    # main loop\n",
    "    for i_episode in range(1, n_episodes + 1) : \n",
    "\n",
    "        collected_rewards = []\n",
    "        env_info = env.reset(train_mode=True)[brain_name]     # reset the environment    \n",
    "        all_states = env_info.vector_observations             # get the current state (for each agent)\n",
    "        agent.reset()                                         # resets the noise\n",
    "        \n",
    "        # running an episode until end\n",
    "        while(True) : \n",
    "            if i_step < t_stop_noise :\n",
    "                all_actions = agent.act(all_states, noise_factor=noise_factor)\n",
    "                noise_factor *= noise_reduction\n",
    "            else :\n",
    "                all_actions= agent.act(all_states, add_noise=False)\n",
    "            \n",
    "            env_info = env.step(all_actions)[brain_name]\n",
    "            all_next_states = env_info.vector_observations         # get next state (for each agent)\n",
    "            rewards = env_info.rewards                             # get reward (for each agent)\n",
    "            dones = env_info.local_done                            # see if episode finished\n",
    "            \n",
    "            # store experiences & learn\n",
    "            states = np.array(all_states).reshape(1,-1)\n",
    "            actions = np.array(all_actions).reshape(1,-1)\n",
    "            next_states = np.array(all_next_states).reshape(1,-1)\n",
    "            agent.step(states, actions, rewards, next_states, dones) \n",
    "            \n",
    "            all_states = all_next_states\n",
    "            collected_rewards.append(rewards)\n",
    "            i_step += 1\n",
    "            \n",
    "            if np.any(dones):\n",
    "                break\n",
    "\n",
    "        rewards = np.transpose(np.array(collected_rewards)) # for 1 episode\n",
    "        scores_agent = np.sum(rewards, axis = 1)\n",
    "        #scores.append(np.max(scores_agent))\n",
    "        scores_deque.append(np.max(scores_agent))\n",
    "        avg_score = np.mean(scores_deque)\n",
    "        avg_scores.append(avg_score)\n",
    "        if avg_score > max_avg_score :\n",
    "            torch.save(agent.actors[0].actor_local.state_dict(), 'checkpoint_actor_0.pth')\n",
    "            torch.save(agent.actors[1].actor_local.state_dict(), 'checkpoint_actor_1.pth')\n",
    "            max_avg_score = avg_score\n",
    "            i_episode_max = i_episode\n",
    "        #print('\\rEpisode {} \\t Average Score : {:.5f}'.format(i_episode, avg_score, end=\"\"))\n",
    "        if  i_episode % print_every == 0 :\n",
    "            print('\\rEpisode {} \\t Average Score : {:.5f}'.format(i_episode, avg_score))\n",
    "\n",
    "    return avg_scores, max_avg_score, i_episode_max\n",
    "\n"
   ]
  },
  {
   "cell_type": "code",
   "execution_count": 7,
   "metadata": {},
   "outputs": [
    {
     "name": "stdout",
     "output_type": "stream",
     "text": [
      "Episode 200 \t Average Score : 0.00090\n",
      "Episode 400 \t Average Score : 0.00280\n",
      "Episode 600 \t Average Score : 0.00980\n",
      "Episode 800 \t Average Score : 0.01280\n",
      "Episode 1000 \t Average Score : 0.01570\n",
      "Episode 1200 \t Average Score : 0.03870\n",
      "Episode 1400 \t Average Score : 0.03180\n",
      "Episode 1600 \t Average Score : 0.03380\n",
      "Episode 1800 \t Average Score : 0.02820\n",
      "Episode 2000 \t Average Score : 0.03670\n",
      "Episode 2200 \t Average Score : 0.04520\n",
      "Episode 2400 \t Average Score : 0.08570\n",
      "Episode 2600 \t Average Score : 0.09280\n",
      "Episode 2800 \t Average Score : 0.09160\n",
      "Episode 3000 \t Average Score : 0.10640\n",
      "Episode 3200 \t Average Score : 0.11330\n",
      "Episode 3400 \t Average Score : 0.10470\n",
      "Episode 3600 \t Average Score : 0.11640\n",
      "Episode 3800 \t Average Score : 0.09780\n",
      "Episode 4000 \t Average Score : 0.15590\n",
      "Episode 4200 \t Average Score : 0.27480\n",
      "Episode 4400 \t Average Score : 0.31620\n",
      "Episode 4600 \t Average Score : 0.97320\n",
      "Episode 4800 \t Average Score : 1.51600\n",
      "Episode 5000 \t Average Score : 2.31770\n",
      "Episode 5200 \t Average Score : 2.18780\n",
      "Episode 5400 \t Average Score : 2.35690\n",
      "Episode 5600 \t Average Score : 2.31480\n",
      "Episode 5800 \t Average Score : 1.73640\n",
      "Episode 6000 \t Average Score : 1.13900\n",
      "Episode 6200 \t Average Score : 2.02570\n",
      "Episode 6400 \t Average Score : 1.62580\n",
      "Episode 6600 \t Average Score : 1.20630\n",
      "Episode 6800 \t Average Score : 1.91860\n",
      "Episode 7000 \t Average Score : 2.00930\n",
      "Episode 7200 \t Average Score : 1.83620\n",
      "Episode 7400 \t Average Score : 1.81130\n",
      "Episode 7600 \t Average Score : 1.63980\n",
      "Episode 7800 \t Average Score : 1.97660\n",
      "Episode 8000 \t Average Score : 2.22780\n",
      "Episode 8200 \t Average Score : 2.15210\n",
      "Episode 8400 \t Average Score : 1.61300\n",
      "Episode 8600 \t Average Score : 1.13160\n",
      "Episode 8800 \t Average Score : 0.88970\n",
      "Episode 9000 \t Average Score : 1.50900\n",
      "Episode 9200 \t Average Score : 2.02720\n",
      "Episode 9400 \t Average Score : 2.15070\n",
      "Episode 9600 \t Average Score : 1.79940\n",
      "Episode 9800 \t Average Score : 2.25670\n",
      "Episode 10000 \t Average Score : 2.43680\n",
      "Reached a maximum average of scores (over last 100 episodes) = 2.46 after 5292 episodes\n"
     ]
    },
    {
     "ename": "NameError",
     "evalue": "name 'plt' is not defined",
     "output_type": "error",
     "traceback": [
      "\u001b[0;31m---------------------------------------------------------------------------\u001b[0m",
      "\u001b[0;31mNameError\u001b[0m                                 Traceback (most recent call last)",
      "\u001b[0;32m<ipython-input-7-fcb1d816f890>\u001b[0m in \u001b[0;36m<module>\u001b[0;34m\u001b[0m\n\u001b[1;32m      9\u001b[0m \u001b[0mprint\u001b[0m\u001b[0;34m(\u001b[0m\u001b[0;34m\"Reached a maximum average of scores (over last 100 episodes) = {:.2f} after {:d} episodes\"\u001b[0m\u001b[0;34m.\u001b[0m\u001b[0mformat\u001b[0m\u001b[0;34m(\u001b[0m\u001b[0mmax_score\u001b[0m\u001b[0;34m,\u001b[0m \u001b[0mepisode\u001b[0m\u001b[0;34m)\u001b[0m\u001b[0;34m)\u001b[0m\u001b[0;34m\u001b[0m\u001b[0;34m\u001b[0m\u001b[0m\n\u001b[1;32m     10\u001b[0m \u001b[0;34m\u001b[0m\u001b[0m\n\u001b[0;32m---> 11\u001b[0;31m \u001b[0mfig\u001b[0m \u001b[0;34m=\u001b[0m \u001b[0mplt\u001b[0m\u001b[0;34m.\u001b[0m\u001b[0mfigure\u001b[0m\u001b[0;34m(\u001b[0m\u001b[0;34m)\u001b[0m\u001b[0;34m\u001b[0m\u001b[0;34m\u001b[0m\u001b[0m\n\u001b[0m\u001b[1;32m     12\u001b[0m \u001b[0max\u001b[0m \u001b[0;34m=\u001b[0m \u001b[0mfig\u001b[0m\u001b[0;34m.\u001b[0m\u001b[0madd_subplot\u001b[0m\u001b[0;34m(\u001b[0m\u001b[0;36m111\u001b[0m\u001b[0;34m)\u001b[0m\u001b[0;34m\u001b[0m\u001b[0;34m\u001b[0m\u001b[0m\n\u001b[1;32m     13\u001b[0m \u001b[0mplt\u001b[0m\u001b[0;34m.\u001b[0m\u001b[0mplot\u001b[0m\u001b[0;34m(\u001b[0m\u001b[0mnp\u001b[0m\u001b[0;34m.\u001b[0m\u001b[0marange\u001b[0m\u001b[0;34m(\u001b[0m\u001b[0;36m1\u001b[0m\u001b[0;34m,\u001b[0m \u001b[0mlen\u001b[0m\u001b[0;34m(\u001b[0m\u001b[0mscores\u001b[0m\u001b[0;34m)\u001b[0m \u001b[0;34m+\u001b[0m \u001b[0;36m1\u001b[0m\u001b[0;34m)\u001b[0m\u001b[0;34m,\u001b[0m \u001b[0mscores\u001b[0m\u001b[0;34m)\u001b[0m\u001b[0;34m\u001b[0m\u001b[0;34m\u001b[0m\u001b[0m\n",
      "\u001b[0;31mNameError\u001b[0m: name 'plt' is not defined"
     ]
    }
   ],
   "source": [
    "random_seed = 2\n",
    "device = torch.device(\"cuda:0\" if torch.cuda.is_available() else \"cpu\")\n",
    "Hyperparams = namedtuple('Hyperparams',['batch_size', 'tau', 'lr_actor', 'lr_critic', 'update_every'])\n",
    "hyperparameters = Hyperparams(32, 0.009, 5e-5, 1e-4, 2)\n",
    "\n",
    "learner = Learner(state_size, action_size, random_seed, num_agents, device, hyperparameters)\n",
    "scores, max_score, episode = train(learner, n_episodes=10000)\n",
    "\n",
    "print(\"Reached a maximum average of scores (over last 100 episodes) = {:.2f} after {:d} episodes\".format(max_score, episode))\n",
    "\n",
    "fig = plt.figure()\n",
    "ax = fig.add_subplot(111)\n",
    "plt.plot(np.arange(1, len(scores) + 1), scores)\n",
    "plt.ylabel('Avg Score (100 last episodes)')\n",
    "plt.xlabel('Episode #')\n",
    "plt.savefig('scores.jpg')\n",
    "plt.show()"
   ]
  },
  {
   "cell_type": "code",
   "execution_count": 9,
   "metadata": {},
   "outputs": [
    {
     "data": {
      "image/png": "[encoded data removed]",
      "text/plain": [
       "<Figure size 432x288 with 1 Axes>"
      ]
     },
     "metadata": {
      "needs_background": "light"
     },
     "output_type": "display_data"
    }
   ],
   "source": [
    "import matplotlib.pyplot as plt\n",
    "%matplotlib inline\n",
    "fig = plt.figure()\n",
    "ax = fig.add_subplot(111)\n",
    "plt.plot(np.arange(1, len(scores) + 1), scores)\n",
    "plt.ylabel('Avg Score (100 last episodes)')\n",
    "plt.xlabel('Episode #')\n",
    "plt.savefig('scores.jpg')\n",
    "plt.show()"
   ]
  },
  {
   "cell_type": "markdown",
   "metadata": {},
   "source": [
    "### Test the agent"
   ]
  },
  {
   "cell_type": "code",
   "execution_count": 10,
   "metadata": {},
   "outputs": [
    {
     "name": "stdout",
     "output_type": "stream",
     "text": [
      "Score (max over agents) from episode 1: 2.600000038743019\n",
      "Score (max over agents) from episode 2: 2.7000000402331352\n",
      "Score (max over agents) from episode 3: 2.7000000402331352\n",
      "Score (max over agents) from episode 4: 2.600000038743019\n",
      "Score (max over agents) from episode 5: 2.7000000402331352\n",
      "Score (max over agents) from episode 6: 2.7000000402331352\n",
      "Score (max over agents) from episode 7: 2.600000038743019\n",
      "Score (max over agents) from episode 8: 2.7000000402331352\n",
      "Score (max over agents) from episode 9: 2.7000000402331352\n"
     ]
    }
   ],
   "source": [
    "from model import ActorNetwork\n",
    "actor_local_0 = ActorNetwork(state_size, action_size, random_seed)\n",
    "actor_local_0.load_state_dict(torch.load('checkpoint_actor_0.pth'))\n",
    "actor_local_1 = ActorNetwork(state_size, action_size, random_seed)\n",
    "actor_local_1.load_state_dict(torch.load('checkpoint_actor_1.pth'))\n",
    "\n",
    "agent  = Learner(state_size, action_size, random_seed, num_agents, device, hyperparameters)\n",
    "agent.actors[0].actor_local = actor_local_0\n",
    "agent.actors[1].actor_local = actor_local_1\n",
    "\n",
    "for i in range(1, 10):                                     # play game for 10 episodes\n",
    "    env_info = env.reset(train_mode=False)[brain_name]     # reset the environment    \n",
    "    states = env_info.vector_observations                  # get the current state (for each agent)\n",
    "    scores = np.zeros(num_agents)                          # initialize the score (for each agent)\n",
    "    while True:\n",
    "        actions = agent.act(states, add_noise=False)\n",
    "        env_info = env.step(actions)[brain_name]           # send all actions to tne environment\n",
    "        next_states = env_info.vector_observations         # get next state (for each agent)\n",
    "        rewards = env_info.rewards                         # get reward (for each agent)\n",
    "        dones = env_info.local_done                        # see if episode finished\n",
    "        scores += env_info.rewards                         # update the score (for each agent)\n",
    "        states = next_states                               # roll over states to next time step\n",
    "        if np.any(dones):                                  # exit loop if episode finished\n",
    "            break\n",
    "    print('Score (max over agents) from episode {}: {}'.format(i, np.max(scores)))"
   ]
  },
  {
   "cell_type": "code",
   "execution_count": null,
   "metadata": {},
   "outputs": [],
   "source": []
  }
 ],
 "metadata": {
  "kernelspec": {
   "display_name": "drlnd",
   "language": "python",
   "name": "drlnd"
  },
  "language_info": {
   "codemirror_mode": {
    "name": "ipython",
    "version": 3
   },
   "file_extension": ".py",
   "mimetype": "text/x-python",
   "name": "python",
   "nbconvert_exporter": "python",
   "pygments_lexer": "ipython3",
   "version": "3.6.9"
  }
 },
 "nbformat": 4,
 "nbformat_minor": 2
}
